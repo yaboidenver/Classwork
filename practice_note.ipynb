{
 "cells": [
  {
   "cell_type": "code",
   "execution_count": 1,
   "id": "184babf7",
   "metadata": {},
   "outputs": [
    {
     "name": "stdout",
     "output_type": "stream",
     "text": [
      "9\n"
     ]
    }
   ],
   "source": [
    "x = 5\n",
    "a = x+4\n",
    "print(a)"
   ]
  },
  {
   "cell_type": "markdown",
   "id": "6f47bd0c",
   "metadata": {},
   "source": [
    "# Markdown\n",
    "\n",
    "this is markdown\n",
    "\n",
    "#### bold"
   ]
  },
  {
   "cell_type": "code",
   "execution_count": null,
   "id": "739e9f9f",
   "metadata": {},
   "outputs": [],
   "source": []
  }
 ],
 "metadata": {
  "kernelspec": {
   "display_name": "Python 3 (ipykernel)",
   "language": "python",
   "name": "python3"
  },
  "language_info": {
   "codemirror_mode": {
    "name": "ipython",
    "version": 3
   },
   "file_extension": ".py",
   "mimetype": "text/x-python",
   "name": "python",
   "nbconvert_exporter": "python",
   "pygments_lexer": "ipython3",
   "version": "3.10.6"
  }
 },
 "nbformat": 4,
 "nbformat_minor": 5
}
